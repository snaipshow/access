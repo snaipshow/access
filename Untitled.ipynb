{
 "cells": [
  {
   "cell_type": "code",
   "execution_count": 2,
   "id": "5c661b4f",
   "metadata": {},
   "outputs": [
    {
     "name": "stdout",
     "output_type": "stream",
     "text": [
      "hi4\n"
     ]
    }
   ],
   "source": [
    "print('hi4')"
   ]
  },
  {
   "cell_type": "code",
   "execution_count": 4,
   "id": "5b16a8bb",
   "metadata": {},
   "outputs": [],
   "source": [
    "import pyodbc\n",
    "path = r\"c:\\Users\\kuzhu\\OneDrive\\Рабочий стол\\maxim_acces_base\"\n",
    "file = \"Maxim base.accdb\"\n",
    "file = '\\\\'.join([path,file])\n",
    "\n",
    "conn = pyodbc.connect(r'Driver={Microsoft Access Driver (*.mdb, *.accdb)};DBQ='+file)\n"
   ]
  },
  {
   "cell_type": "code",
   "execution_count": 18,
   "id": "8679ba25",
   "metadata": {},
   "outputs": [
    {
     "name": "stdout",
     "output_type": "stream",
     "text": [
      "-----------------------------------\n"
     ]
    }
   ],
   "source": [
    "cursor = conn.cursor()\n",
    "cursor.execute(\"select * from Материалы\")\n",
    "for row in cursor.fetchall():\n",
    "    print(row)\n",
    "print(\"-----------------------------------\")\n"
   ]
  },
  {
   "cell_type": "code",
   "execution_count": 17,
   "id": "53ad13a9",
   "metadata": {},
   "outputs": [
    {
     "data": {
      "text/plain": [
       "<pyodbc.Cursor at 0x212e360c6b0>"
      ]
     },
     "execution_count": 17,
     "metadata": {},
     "output_type": "execute_result"
    }
   ],
   "source": [
    "#cursor.execute(\"select * from Материалы\")\n",
    "cursor.execute(\"delete from Материалы\")\n",
    "\n"
   ]
  },
  {
   "cell_type": "code",
   "execution_count": null,
   "id": "fd1c8666",
   "metadata": {},
   "outputs": [],
   "source": []
  }
 ],
 "metadata": {
  "kernelspec": {
   "display_name": "Python 3 (ipykernel)",
   "language": "python",
   "name": "python3"
  },
  "language_info": {
   "codemirror_mode": {
    "name": "ipython",
    "version": 3
   },
   "file_extension": ".py",
   "mimetype": "text/x-python",
   "name": "python",
   "nbconvert_exporter": "python",
   "pygments_lexer": "ipython3",
   "version": "3.10.9"
  }
 },
 "nbformat": 4,
 "nbformat_minor": 5
}
